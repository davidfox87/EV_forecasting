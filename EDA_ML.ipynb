{
 "cells": [
  {
   "cell_type": "code",
   "execution_count": 1,
   "metadata": {},
   "outputs": [],
   "source": [
    "import pandas as pd\n",
    "import numpy as np\n",
    "import seaborn as sns\n",
    "\n",
    "import matplotlib.pyplot as plt\n",
    "from sklearn.preprocessing import StandardScaler\n",
    "from sklearn.compose import ColumnTransformer\n",
    "from sklearn.preprocessing import OneHotEncoder\n",
    "\n",
    "from xgboost import XGBRegressor\n",
    "from lightgbm import LGBMRegressor\n",
    "from sklearn.ensemble import RandomForestRegressor\n",
    "from sklearn.linear_model import Ridge\n",
    "from sklearn.multioutput import MultiOutputRegressor\n",
    "\n",
    "from sklearn.pipeline import Pipeline, FeatureUnion\n",
    "\n",
    "from sklearn.model_selection import cross_val_score, GridSearchCV, TimeSeriesSplit\n",
    "\n",
    "\n",
    "from sklearn.impute import SimpleImputer\n",
    "\n",
    "from sklearn.metrics import r2_score, median_absolute_error, mean_absolute_error, explained_variance_score\n",
    "from sklearn.metrics import median_absolute_error, mean_squared_error, mean_squared_log_error\n",
    "from sklearn.metrics import make_scorer\n",
    "\n",
    "from sklearn.base import TransformerMixin\n",
    "from sklearn.base import BaseEstimator\n",
    "\n",
    "\n",
    "\n",
    "import datetime\n",
    "\n",
    "from sklearn import set_config\n",
    "set_config(display='diagram') \n",
    "\n",
    "plt.rcParams['figure.figsize'] = [20, 20]\n",
    "\n",
    "sns.set_style('darkgrid', {'axes.facecolor': '.9'})\n",
    "sns.set_palette(palette='deep')\n",
    "sns_c = sns.color_palette(palette='deep')\n",
    "\n",
    "\n",
    "sns.set(rc={'figure.figsize':(20, 10)})\n",
    "sns.set_context(\"poster\")\n",
    "sns.set_style(\"white\")\n",
    "palette = sns.color_palette(\"mako_r\", 6)"
   ]
  },
  {
   "cell_type": "code",
   "execution_count": null,
   "metadata": {},
   "outputs": [],
   "source": []
  }
 ],
 "metadata": {
  "kernelspec": {
   "display_name": "Python 3",
   "language": "python",
   "name": "python3"
  },
  "language_info": {
   "codemirror_mode": {
    "name": "ipython",
    "version": 3
   },
   "file_extension": ".py",
   "mimetype": "text/x-python",
   "name": "python",
   "nbconvert_exporter": "python",
   "pygments_lexer": "ipython3",
   "version": "3.7.6"
  }
 },
 "nbformat": 4,
 "nbformat_minor": 4
}
